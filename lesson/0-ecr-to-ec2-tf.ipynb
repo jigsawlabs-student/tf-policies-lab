{
 "cells": [
  {
   "cell_type": "markdown",
   "id": "48387fed-ee05-4c04-bec9-f8795f2690ad",
   "metadata": {},
   "source": [
    "# Policies Roles Lab"
   ]
  },
  {
   "cell_type": "markdown",
   "id": "ca6e8b3d-abb8-4125-a38d-0ac99bb3f7ee",
   "metadata": {},
   "source": [
    "### Introduction"
   ]
  },
  {
   "cell_type": "markdown",
   "id": "9c1ea430-801b-492d-92bd-7b49cc0acb38",
   "metadata": {},
   "source": [
    "In this lesson, we'll ask you to move step by step to set up architecture that will allow the EC2 machine to access the ECR resource.  Let's get started."
   ]
  },
  {
   "cell_type": "markdown",
   "id": "c10cde11-2e4e-49a0-b79d-2f16b5a1e9b3",
   "metadata": {},
   "source": [
    "### Policies Setup"
   ]
  },
  {
   "cell_type": "markdown",
   "id": "43fb97db-a27a-4a74-b306-5d42593882f6",
   "metadata": {},
   "source": [
    "Let's begin by reviewing the broad steps that we'll need."
   ]
  },
  {
   "cell_type": "markdown",
   "id": "8e9f33b7-c025-4bc4-ac8e-ffb5f32dba7a",
   "metadata": {},
   "source": [
    "<img src=\"./ec2-ecr-permissions.png\" width=\"60%\">"
   ]
  },
  {
   "cell_type": "markdown",
   "id": "440af7ef-933e-4a2d-a806-3c66182e4efa",
   "metadata": {},
   "source": [
    "So we'll have an ECR repository (this you may have already set up) and we'll need to give our EC2 access to it.  To do so, we'll create an IAM role and wrap it in an IAM profile (the IAM profile is what we'll directly attach to the EC2 instance -- just because).  Then we need to give the IAM role two different policies: \n",
    "\n",
    "1. A trust policy -- that allows EC2s the ability to assume the IAM role\n",
    "2. An identity policy -- that grants authorization to the principal to access ECR services.\n",
    "\n"
   ]
  },
  {
   "cell_type": "markdown",
   "id": "5a02e112-c8c7-4a95-908e-2e16ed08d2ae",
   "metadata": {},
   "source": [
    "### Implementing in Terraform"
   ]
  },
  {
   "cell_type": "markdown",
   "id": "b9d4938a-1bc8-4bf2-a717-b9683624052a",
   "metadata": {},
   "source": [
    "Ok, so take a look at the `tf/main.tf`  There, you can see code for creating the EC2 machine.  And we already have the ECR repo created, so now we'll need to grant the proper permissions.\n",
    "\n",
    "What's the first step?  \n",
    "\n",
    "Creating an IAM role.\n",
    "\n",
    "So currently the IAM role looks like the following.\n",
    "\n",
    "```bash\n",
    "resource \"aws_iam_role\" \"ec2_ecr_role\" {\n",
    "    name = \"ec2-ecr-role\"\n",
    "\n",
    "    assume_role_policy = jsonencode({\n",
    "    Version = \"2012-10-17\"\n",
    "    Statement = [\n",
    "    ]\n",
    "  })\n",
    "}\n",
    "```\n",
    "\n",
    "Let's unpack it.  So we create an `aws_iam_role` and call is `ec2_ecr_role` in terraform.  Then we give it a name.  We directly attach the `assume_role_policy`, which should allow ec2 machines to assume the role.  And then we specify the Version of the API we are using, and then have `Statement` equal an empty list.  The statement is where we'll specify the permissions we want to grant.  And we want to give an assume role permission.  \n",
    "\n",
    "Ok, so statement should be a list of dictionaries, and this is the dictionary we would like to provide.  Paste this in the statement.\n",
    "\n",
    "```bash\n",
    "  {\n",
    "  Action = \"\" \n",
    "  Effect = \"\" \n",
    "  Principal = {}\n",
    "  Sid = \"\"\n",
    "  }\n",
    "```\n",
    "\n",
    "Now think about what we want the values to be for `Action`, `Effect`, `Principal`, and `Sid`.\n",
    "\n",
    "Think. \n",
    "\n",
    "* Ok, so Action should equal \"sts:AssumeRole\".  The `sts` is the security token service -- essentially the role will will need to grant a token allowing the EC2 machine to assume the role.\n",
    "* Effect should be \"Allow\".  We only have two different Effects, Allow and Deny.  And here we want to allow the ability to get the token.\n",
    "* Principal -- This is who we want to grant that assume role ability to.  There are different options -- you can grant the ability to a service, or to a specific aws account.  For example, to grant an aws account the ability to assume a role, it could be `\"Principal\": {\"AWS\": \"arn:aws:iam::123456789012:user/MyUser\"}`.  But in this case we want an entire service the ability to assume this role so we will have the following:\n",
    "\n",
    "```\n",
    "  Principal =  {Service = \"ec2.amazonaws.com\"}\n",
    "```\n"
   ]
  },
  {
   "cell_type": "markdown",
   "id": "23352cab-272f-4b89-acb5-89ce2c9b80be",
   "metadata": {},
   "source": [
    "Ok, so fill that into terraform and the first step is done.  We have created a role, and directly set the assume role policy to allow EC2 machines to adopt this role.  If you look at the diagram, you can see that the Red `IAM Role` and that the Yellow `Trust Policy` are both complete."
   ]
  },
  {
   "cell_type": "markdown",
   "id": "e0483cbf-8650-4079-9f59-affbe61d878b",
   "metadata": {},
   "source": [
    "<img src=\"./ec2-ecr-permissions.png\" width=\"60%\">"
   ]
  },
  {
   "cell_type": "markdown",
   "id": "a56bc540-a483-4f0f-8b35-cdacd3b541ba",
   "metadata": {},
   "source": [
    "Next, let's just create that wrapper for the IAM profile -- the `IAM Role`."
   ]
  },
  {
   "cell_type": "markdown",
   "id": "b2c1125f-b246-490a-b002-523605aec2d3",
   "metadata": {},
   "source": [
    "```bash\n",
    "resource \"aws_iam_instance_profile\" \"ec2_profile\" {\n",
    " name = \"ec2-ecr-instance-profile\"\n",
    " role = aws_iam_role.ec2_ecr_role.name\n",
    "}\n",
    "```"
   ]
  },
  {
   "cell_type": "markdown",
   "id": "772e0bc5-341a-404b-a765-51c72b94e2c9",
   "metadata": {},
   "source": [
    "So here, we create the terraform resource `aws_iam_instance_profile` and then name the profile.  And we attach the role to the profile, by specifying the name of the role: `role = aws_iam_role.ec2_ecr_role.name`."
   ]
  },
  {
   "cell_type": "markdown",
   "id": "45a5b3e2-edbe-4e7c-879f-41b28cacfa81",
   "metadata": {},
   "source": [
    "And now that we have the profile, we can attach the profile to the EC2 machine."
   ]
  },
  {
   "cell_type": "markdown",
   "id": "6c2e4a91-46f0-4170-9c78-eda7aceedcda",
   "metadata": {},
   "source": [
    "Go to the aws_instance, and add a field for `iam_instance_profile`, where we'll specify the name of the profile we just created.\n",
    "\n",
    "```bash\n",
    "resource \"aws_instance\" \"ec2_instance\" {\n",
    "  ami           = \"ami-0d7a109bf30624c99\"\n",
    "  instance_type = \"t2.micro\"\n",
    "  iam_instance_profile = aws_iam_instance_profile.ec2_iam_profile.name\n",
    "  ...\n",
    "```"
   ]
  },
  {
   "cell_type": "markdown",
   "id": "cb939c25-2545-4b48-9668-5ec32a7b0172",
   "metadata": {},
   "source": [
    "Ok, once this is complete, let's take another look at our diagram to see what we accomplished and what we have left."
   ]
  },
  {
   "cell_type": "markdown",
   "id": "bf610b90-ab9b-4774-a138-f15d7bdc48a7",
   "metadata": {
    "tags": []
   },
   "source": [
    "<img src=\"./ec2-ecr-permissions.png\" width=\"60%\">"
   ]
  },
  {
   "cell_type": "markdown",
   "id": "618f1ec2-8b31-44f4-a1fe-d6fa507f8e41",
   "metadata": {},
   "source": [
    "Ok, so a lot of the steps are now complete. \n",
    "1. We created the IAM role with the trust policy allowing EC2 instances to adopt it. \n",
    "2. Then we created the IAM profile.  \n",
    "3. And then we attached the profile to the EC2 instance, who we want to assume the role:  `iam_instance_profile = aws_iam_instance_profile.ec2_profile.name`."
   ]
  },
  {
   "cell_type": "markdown",
   "id": "36236bb0-414c-4087-92e9-69899abeeae1",
   "metadata": {},
   "source": [
    "So what's left?  Well we need to create a new role, that will endow our IAM role IAM with some rights -- the right to access our ECR.  Ok, so to accomplish that, we need to attach an ECR access policy to our IAM role."
   ]
  },
  {
   "cell_type": "markdown",
   "id": "710353ce-9988-4ffc-b7af-e46fb7517123",
   "metadata": {},
   "source": [
    "```python\n",
    "resource \"aws_iam_role_policy_attachment\" \"ecr_read_only\" {\n",
    " role = None \n",
    " policy_arn = \"\"\n",
    "}\n",
    "```"
   ]
  },
  {
   "cell_type": "markdown",
   "id": "25ada7c5-eb29-4571-b16e-c717d9b47ecb",
   "metadata": {},
   "source": [
    "To do we can create an `aws_iam_role_policy_attachment`, which does what it sounds like, and then can name it `ecr_read_only`.  And we just spcify the `role` and the `policy_arn`.  \n",
    "\n",
    "So now fill in the following.\n",
    "\n",
    "* `policy_arn = \"arn:aws:iam::aws:policy/AmazonEC2ContainerRegistryReadOnly\"` -- this you can find by searching through pre-exising AWS policies.\n",
    "\n",
    "* And fill in `role = aws_iam_role.ec2_ecr_role.name`."
   ]
  },
  {
   "cell_type": "markdown",
   "id": "a266da76-4b38-4d59-8b29-f8005d29e1c8",
   "metadata": {},
   "source": [
    "Ok that will be it.  With that we attach the role to the ECR policy, and we already attached the role to our EC2 instance, and set an assume role policy allowing an EC2 to assume that role."
   ]
  },
  {
   "cell_type": "markdown",
   "id": "911cb6a4-0ad1-4637-8a7a-3c0371450ea4",
   "metadata": {},
   "source": [
    "#### Trying it out"
   ]
  },
  {
   "cell_type": "markdown",
   "id": "2fd443bb-d094-4d82-9266-bfc14360ed21",
   "metadata": {},
   "source": [
    "Ok, so now `cd` into the `web_app/tf` folder and then:\n",
    "\n",
    "* Update the `ec2_instance` `key_name` attribute to align with the keys for one your `.pem` files.\n",
    "* You may also need to update the `ami`.  We are using yum, so any ami that is a aws linux, or redhat ami should work.\n",
    "\n",
    "Then run the following.\n",
    "\n",
    "```bash\n",
    "terraform init\n",
    "terraform apply\n",
    "```"
   ]
  },
  {
   "cell_type": "markdown",
   "id": "3804af20-bca0-4227-b32e-15f6c86952a7",
   "metadata": {},
   "source": [
    "* Ssh into the EC2\n",
    "\n",
    "Then we want to ssh into the EC2 machine to confirm that we can access our ECR.  So if you look at the output, you'll see an output indicating how to ssh into the machine.  And once you ssh in there, you can confirm that you can access ECR."
   ]
  },
  {
   "cell_type": "markdown",
   "id": "65e2b394-e2d1-4482-a6b8-83982f36c0a2",
   "metadata": {},
   "source": [
    "```bash\n",
    "    aws ecr describe-repositories\n",
    "```\n",
    "\n",
    "And if you want to try pulling down an image, you can do so by copying the root url from one of the `repositoryUri's` (just the content before the slash), and replace it with what we have listed after `--password-stdin`, also make sure that the `--region` matches your region:\n",
    "\n",
    "```bash\n",
    "aws ecr get-login-password --region us-east-1 | sudo docker login --username AWS --password-stdin ******.dkr.ecr.us-east-1.amazonaws.com\n",
    "```\n",
    "\n",
    "And then, now that you are logged in, use the full repository uri to run the following.\n",
    "```\n",
    "sudo docker pull ********.dkr.ecr.us-east-1.amazonaws.com/flask_app:latest\n",
    "```"
   ]
  },
  {
   "cell_type": "markdown",
   "id": "732deed7-ebde-494d-b892-ffcab171b149",
   "metadata": {},
   "source": [
    "### Summary"
   ]
  },
  {
   "cell_type": "markdown",
   "id": "edb8022c-639e-4611-88db-7337c1652833",
   "metadata": {},
   "source": [
    "Ok, so in this lab we moved through the steps of granting creating a role to give our EC2 machine the ability to access our ECR repository.\n",
    "\n",
    "<img src=\"./ec2-ecr-permissions.png\" width=\"60%\">"
   ]
  },
  {
   "cell_type": "markdown",
   "id": "0851fe9e-7b36-49de-accc-c3788ca70b3d",
   "metadata": {},
   "source": [
    "Doing so involved, creating a role, and specifying the `assume_role_policy` which specifies the secure token service can grant an access token to the EC2 machine.\n",
    "\n",
    "```bash\n",
    "resource \"aws_iam_role\" \"ec2_ecr_role\" {\n",
    "    name = \"ec2-ecr-allow\"\n",
    "\n",
    "    assume_role_policy = jsonencode({\n",
    "    Version = \"2012-10-17\"\n",
    "    Statement = [\n",
    "      {\n",
    "      Action = \"sts:AssumeRole\" #right here\n",
    "      Effect = \"Allow\" # and here \n",
    "      Principal = {\n",
    "      Service = \"ec2.amazonaws.com\" # and here\n",
    "      }\n",
    "      Sid = \"\"\n",
    "      },\n",
    "    ]\n",
    "  })\n",
    "```"
   ]
  },
  {
   "cell_type": "markdown",
   "id": "6d7b9108-3a6e-4a7c-a5b0-fd2332eb72a0",
   "metadata": {},
   "source": [
    "And then we created a profile, and attached the profile to our specific EC2 machine."
   ]
  },
  {
   "cell_type": "markdown",
   "id": "ea40793b-4180-402c-b47e-1c2a36e5ec22",
   "metadata": {},
   "source": [
    "```bash\n",
    "resource \"aws_instance\" \"ec2_instance\" {\n",
    "  ami           = \"ami-0d7a109bf30624c99\" # you may need to update this\n",
    "  instance_type = \"t2.micro\"\n",
    "  iam_instance_profile = aws_iam_instance_profile.ec2_profile.name\n",
    "```"
   ]
  },
  {
   "cell_type": "markdown",
   "id": "6d277738-9c5a-4902-ac9d-3826b7ae6133",
   "metadata": {},
   "source": [
    "And finally, we needed to attach the ECR read policy to that IAM role."
   ]
  },
  {
   "cell_type": "markdown",
   "id": "069f7ec0-a478-4871-8ee6-ed3a73a1757c",
   "metadata": {},
   "source": [
    "```bash\n",
    "resource \"aws_iam_role_policy_attachment\" \"ecr_read_only\" {\n",
    " role = aws_iam_role.ec2_ecr_role.name\n",
    " policy_arn = \"arn:aws:iam::aws:policy/AmazonEC2ContainerRegistryReadOnly\"\n",
    "}\n",
    "```"
   ]
  },
  {
   "cell_type": "markdown",
   "id": "f6b2923f-d8f7-47ec-96d3-5a2d411b4792",
   "metadata": {},
   "source": [
    "### Resources\n",
    "\n",
    "[Repo Policy Examples](https://docs.aws.amazon.com/AmazonECR/latest/userguide/repository-policy-examples.html)"
   ]
  }
 ],
 "metadata": {
  "kernelspec": {
   "display_name": "Python 3 (ipykernel)",
   "language": "python",
   "name": "python3"
  },
  "language_info": {
   "codemirror_mode": {
    "name": "ipython",
    "version": 3
   },
   "file_extension": ".py",
   "mimetype": "text/x-python",
   "name": "python",
   "nbconvert_exporter": "python",
   "pygments_lexer": "ipython3",
   "version": "3.10.14"
  }
 },
 "nbformat": 4,
 "nbformat_minor": 5
}
