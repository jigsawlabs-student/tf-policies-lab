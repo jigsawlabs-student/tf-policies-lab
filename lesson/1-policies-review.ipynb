{
 "cells": [
  {
   "cell_type": "markdown",
   "id": "d6cc4371-bc2e-4889-b20f-0decbfd68798",
   "metadata": {},
   "source": [
    "# Reviewing Policies"
   ]
  },
  {
   "cell_type": "markdown",
   "id": "3a5881d4-0172-4b13-9423-a34cf09b085d",
   "metadata": {},
   "source": [
    "### Introduction"
   ]
  },
  {
   "cell_type": "markdown",
   "id": "60a4d013-e8fe-4fdc-9f58-3e4471c670e3",
   "metadata": {},
   "source": [
    "Working with policies and permissions in AWS can be pretty confusing so let's make sure we understand it before moving on."
   ]
  },
  {
   "cell_type": "markdown",
   "id": "04c8bd54-bff7-46e5-882e-1eefe2ce660b",
   "metadata": {},
   "source": [
    "### Necessary Policies"
   ]
  },
  {
   "cell_type": "markdown",
   "id": "fa6f0f35-6ec4-4365-ae97-82bef23cb25a",
   "metadata": {},
   "source": [
    "So remember that the scenario is that we want an EC2 machine to connect to our ECR machine.\n",
    "\n",
    "1. What are the two policies that we need?\n"
   ]
  },
  {
   "cell_type": "code",
   "execution_count": null,
   "id": "4fef7659-13d6-4efe-92d7-e8c46ffb08ab",
   "metadata": {},
   "outputs": [],
   "source": []
  },
  {
   "cell_type": "markdown",
   "id": "dc6516ed-2cea-44b0-9edb-8515ebc0ceae",
   "metadata": {},
   "source": [
    "2. What do each of the policies do?\n"
   ]
  },
  {
   "cell_type": "code",
   "execution_count": null,
   "id": "4112a1f8-4cd5-4471-a197-3f78edb939bb",
   "metadata": {},
   "outputs": [],
   "source": []
  },
  {
   "cell_type": "markdown",
   "id": "048c424e-82bb-4e59-a15b-83193fd544c1",
   "metadata": {},
   "source": [
    "3. Each policy consists of many statements -- what information is specified in each statement?\n"
   ]
  },
  {
   "cell_type": "code",
   "execution_count": null,
   "id": "d676814b-645a-400d-a90d-bd1376cb2358",
   "metadata": {},
   "outputs": [],
   "source": []
  },
  {
   "cell_type": "markdown",
   "id": "7b3a1dd5-306e-48fd-bd7d-4bb4e9ce420b",
   "metadata": {},
   "source": [
    "4. What is the difference between the policy and the role?\n"
   ]
  },
  {
   "cell_type": "code",
   "execution_count": null,
   "id": "c051a75f-bf37-4958-af43-1d50b7066f2d",
   "metadata": {},
   "outputs": [],
   "source": []
  },
  {
   "cell_type": "markdown",
   "id": "7e1c8b6d-4441-4bf3-807f-67021d50e5a2",
   "metadata": {},
   "source": [
    "5. What is the difference between a policy and a resource?"
   ]
  },
  {
   "cell_type": "code",
   "execution_count": null,
   "id": "4e23d06d-4954-4906-af82-c2e123bd2508",
   "metadata": {},
   "outputs": [],
   "source": []
  },
  {
   "cell_type": "markdown",
   "id": "4a3860ac-d6ad-4675-b491-9474d8438278",
   "metadata": {},
   "source": [
    "6. How do our security groups compare to policies that we create -- how are security groups different from policies?"
   ]
  },
  {
   "cell_type": "code",
   "execution_count": null,
   "id": "bf9f424d-cfef-4d92-9bd5-2342abdb61b3",
   "metadata": {},
   "outputs": [],
   "source": []
  },
  {
   "cell_type": "markdown",
   "id": "2cd827dd-4547-4b6a-bf12-55ef80d19b0f",
   "metadata": {},
   "source": [
    "7. Take a look at the following `aws_iam_role` role and the `assume_role_policy` inside of it."
   ]
  },
  {
   "cell_type": "markdown",
   "id": "c4c5f176-3b9d-4ef7-9229-e32613bca589",
   "metadata": {},
   "source": [
    "```bash\n",
    "resource \"aws_iam_role\" \"ec2_ecr_role\" {\n",
    "    name = \"ec2-ecr-allow\"\n",
    "\n",
    "    assume_role_policy = jsonencode({\n",
    "    Version = \"2012-10-17\"\n",
    "    Statement = [{\n",
    "    Action = \"\" \n",
    "    Effect = \"\" \n",
    "    Principal = {}\n",
    "    Sid = \"\"\n",
    "    } ]\n",
    "  })\n",
    "}\n",
    "```"
   ]
  },
  {
   "cell_type": "markdown",
   "id": "482d3e12-7dd1-402a-9f9d-3ff39cea411d",
   "metadata": {},
   "source": [
    "We have one statement listed.  What should be the values for (these do not have to be exact -- just try to be as specific as you can).\n",
    "    \n",
    "* `Action`\n",
    "* `Effect`\n",
    "* `Principal`"
   ]
  }
 ],
 "metadata": {
  "kernelspec": {
   "display_name": "Python 3 (ipykernel)",
   "language": "python",
   "name": "python3"
  },
  "language_info": {
   "codemirror_mode": {
    "name": "ipython",
    "version": 3
   },
   "file_extension": ".py",
   "mimetype": "text/x-python",
   "name": "python",
   "nbconvert_exporter": "python",
   "pygments_lexer": "ipython3",
   "version": "3.10.14"
  }
 },
 "nbformat": 4,
 "nbformat_minor": 5
}
